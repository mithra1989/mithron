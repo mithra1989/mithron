{
  "nbformat": 4,
  "nbformat_minor": 0,
  "metadata": {
    "kernelspec": {
      "display_name": "Python 3",
      "language": "python",
      "name": "python3"
    },
    "language_info": {
      "codemirror_mode": {
        "name": "ipython",
        "version": 3
      },
      "file_extension": ".py",
      "mimetype": "text/x-python",
      "name": "python",
      "nbconvert_exporter": "python",
      "pygments_lexer": "ipython3",
      "version": "3.6.8"
    },
    "colab": {
      "name": "Copy of 1.Python Assignment.ipynb",
      "provenance": [],
      "collapsed_sections": [],
      "include_colab_link": true
    }
  },
  "cells": [
    {
      "cell_type": "markdown",
      "metadata": {
        "id": "view-in-github",
        "colab_type": "text"
      },
      "source": [
        "<a href=\"https://colab.research.google.com/github/mithra1989/mithron/blob/master/Copy_of_1_Python_Assignment.ipynb\" target=\"_parent\"><img src=\"https://colab.research.google.com/assets/colab-badge.svg\" alt=\"Open In Colab\"/></a>"
      ]
    },
    {
      "cell_type": "markdown",
      "metadata": {
        "id": "l0ZzOlyxB-kf"
      },
      "source": [
        "<h1>Python: without numpy or sklearn </h1>"
      ]
    },
    {
      "cell_type": "markdown",
      "metadata": {
        "id": "C0xO8JV9B-ki"
      },
      "source": [
        "<h3> Q1: Given two matrices please print the product of those two matrices </h3>\n",
        "<pre>\n",
        "\n",
        "Ex 1: A   = [[1 3 4]\n",
        "             [2 5 7]\n",
        "             [5 9 6]]\n",
        "      B   = [[1 0 0]\n",
        "             [0 1 0]\n",
        "             [0 0 1]]\n",
        "      A*B = [[1 3 4]\n",
        "             [2 5 7]\n",
        "             [5 9 6]]\n",
        "\n",
        "     \n",
        "Ex 2: A   = [[1 2]\n",
        "             [3 4]]\n",
        "      B   = [[1 2 3 4 5]\n",
        "             [5 6 7 8 9]]\n",
        "      A*B = [[11 14 17 20 23]\n",
        "             [23 30 36 42 51]]\n",
        "             \n",
        "Ex 3: A   = [[1 2]\n",
        "             [3 4]]\n",
        "      B   = [[1 4]\n",
        "             [5 6]\n",
        "             [7 8]\n",
        "             [9 6]]\n",
        "      A*B =Not possible\n",
        "</pre>"
      ]
    },
    {
      "cell_type": "code",
      "metadata": {
        "id": "rnssAfpgB-kj",
        "colab": {
          "base_uri": "https://localhost:8080/"
        },
        "outputId": "ce9fa6fa-6d0f-4fb6-8fda-0057d872f59d"
      },
      "source": [
        " A=[[1,2],[3,4],[5,6]]\n",
        "B=[[1,2],[3,4]]\n",
        "def matrix_mul(A, B):\n",
        "   sum=0\n",
        "   c=[]\n",
        "   for x in range(0,len(A)):\n",
        "      c.append([0 for x in range (0,len(B[0]))])\n",
        "\n",
        "   for i in range (0,len(A)):\n",
        "      for k in range (0,len(B[0])):\n",
        "        for j in range (0,len(B)):\n",
        "          sum=sum+(A[i][j])*(B[j][k])\n",
        "          c[i][k]=sum\n",
        "        sum=0\n",
        "   return c\n",
        "matrix_mul(A, B)"
      ],
      "execution_count": null,
      "outputs": [
        {
          "output_type": "execute_result",
          "data": {
            "text/plain": [
              "[[7, 10], [15, 22], [23, 34]]"
            ]
          },
          "metadata": {
            "tags": []
          },
          "execution_count": 2
        }
      ]
    },
    {
      "cell_type": "markdown",
      "metadata": {
        "id": "at4VwLggB-kn"
      },
      "source": [
        "<h3> Q2: Select a number randomly with probability proportional to its magnitude from the given array of n elements</h3>\n",
        "\n",
        "consider an experiment, selecting an element from the list A randomly with probability proportional to its magnitude.\n",
        "assume we are doing the same experiment for 100 times with replacement, in each experiment you will print a number that is selected randomly from A.\n",
        "\n",
        "<pre>\n",
        "Ex 1: A = [0 5 27 6 13 28 100 45 10 79]\n",
        "let f(x) denote the number of times x getting selected in 100 experiments.\n",
        "f(100) > f(79) > f(45) > f(28) > f(27) > f(13) > f(10) > f(6) > f(5) > f(0)\n",
        "</pre>"
      ]
    },
    {
      "cell_type": "code",
      "metadata": {
        "id": "B6S2dpBhB-kn",
        "colab": {
          "base_uri": "https://localhost:8080/"
        },
        "outputId": "21029a25-894d-476a-d235-3551fd43e121"
      },
      "source": [
        "import random\n",
        "A=[1,5.6,3.2,5.8]\n",
        "def pick_a_number_from_list(A):\n",
        "    S=0\n",
        "    Anormalized=[]\n",
        "    \n",
        "    for i in range(0,len(A)):\n",
        "       S=S+A[i]\n",
        "\n",
        "    for i in range(0,len(A)):\n",
        "      Anormalized.append(A[i]/S)\n",
        "    cum_sum=[Anormalized[0]]\n",
        "\n",
        "    for i in range(1,len(Anormalized)):\n",
        "      cum_sum.append(cum_sum[i-1]+Anormalized[i])\n",
        "\n",
        "    r=random.uniform(0,1)\n",
        "\n",
        "    for k in range(0,len(cum_sum)):\n",
        "        if r<cum_sum[k]:\n",
        "          return (A[k])\n",
        "          \n",
        "def sampling_based_on_magnitued():\n",
        "  for i in range (0,100):\n",
        "    number=pick_a_number_from_list(A)\n",
        "    print(number)\n",
        "\n",
        "\n",
        "sampling_based_on_magnitued()"
      ],
      "execution_count": null,
      "outputs": [
        {
          "output_type": "stream",
          "text": [
            "5.6\n",
            "5.6\n",
            "5.6\n",
            "3.2\n",
            "5.6\n",
            "5.8\n",
            "5.6\n",
            "5.8\n",
            "5.6\n",
            "5.8\n",
            "3.2\n",
            "3.2\n",
            "1\n",
            "5.8\n",
            "3.2\n",
            "5.6\n",
            "5.8\n",
            "3.2\n",
            "5.6\n",
            "5.6\n",
            "5.8\n",
            "5.6\n",
            "5.6\n",
            "1\n",
            "5.8\n",
            "3.2\n",
            "5.6\n",
            "5.6\n",
            "5.8\n",
            "3.2\n",
            "3.2\n",
            "5.6\n",
            "5.8\n",
            "1\n",
            "5.8\n",
            "5.6\n",
            "5.8\n",
            "5.8\n",
            "5.6\n",
            "5.8\n",
            "5.8\n",
            "5.6\n",
            "5.8\n",
            "5.8\n",
            "5.6\n",
            "5.8\n",
            "5.8\n",
            "5.6\n",
            "5.6\n",
            "5.8\n",
            "5.6\n",
            "5.8\n",
            "1\n",
            "1\n",
            "5.8\n",
            "5.6\n",
            "5.6\n",
            "5.8\n",
            "5.6\n",
            "5.6\n",
            "1\n",
            "5.6\n",
            "5.6\n",
            "3.2\n",
            "3.2\n",
            "5.6\n",
            "5.8\n",
            "3.2\n",
            "3.2\n",
            "5.6\n",
            "3.2\n",
            "5.6\n",
            "3.2\n",
            "5.8\n",
            "5.8\n",
            "3.2\n",
            "5.6\n",
            "5.8\n",
            "5.6\n",
            "5.6\n",
            "5.8\n",
            "5.8\n",
            "5.6\n",
            "5.8\n",
            "5.8\n",
            "5.6\n",
            "5.8\n",
            "3.2\n",
            "5.8\n",
            "1\n",
            "5.8\n",
            "5.8\n",
            "5.6\n",
            "5.8\n",
            "3.2\n",
            "5.8\n",
            "3.2\n",
            "5.6\n",
            "5.8\n",
            "3.2\n"
          ],
          "name": "stdout"
        }
      ]
    },
    {
      "cell_type": "markdown",
      "metadata": {
        "id": "D1xQy2WWB-kq"
      },
      "source": [
        "<h3> Q3: Replace the digits in the string with #</h3>\n",
        "\n",
        "consider a string that will have digits in that, we need to remove all the not digits and replace the digits with #\n",
        "<pre>\n",
        "Ex 1: A = 234                Output: ###\n",
        "Ex 2: A = a2b3c4             Output: ###\n",
        "Ex 3: A = abc                Output:   (empty string)\n",
        "Ex 5: A = #2a$#b%c%561#      Output: ####\n",
        "</pre>"
      ]
    },
    {
      "cell_type": "code",
      "metadata": {
        "id": "fxczi2jzB-kr",
        "colab": {
          "base_uri": "https://localhost:8080/",
          "height": 35
        },
        "outputId": "5cd11f36-2d3f-4d05-bce9-ac6820b722b4"
      },
      "source": [
        "import re\n",
        "def replace_digits(String):\n",
        "  s=[]\n",
        "  for match in re.finditer(r'\\d',String):\n",
        "    s.append(match.start())\n",
        "    \n",
        "  return ('#'*len(s))\n",
        "\n",
        "replace_digits('#2a$#b%c%561#')\n"
      ],
      "execution_count": null,
      "outputs": [
        {
          "output_type": "execute_result",
          "data": {
            "application/vnd.google.colaboratory.intrinsic+json": {
              "type": "string"
            },
            "text/plain": [
              "'####'"
            ]
          },
          "metadata": {
            "tags": []
          },
          "execution_count": 4
        }
      ]
    },
    {
      "cell_type": "markdown",
      "metadata": {
        "id": "j7h0Ywg7B-kw"
      },
      "source": [
        "<h3> Q4: Students marks dashboard</h3>\n",
        "\n",
        "consider the marks list of class students given two lists <br>\n",
        "Students = ['student1','student2','student3','student4','student5','student6','student7','student8','student9','student10'] <br>\n",
        "Marks = [45, 78, 12, 14, 48, 43, 45, 98, 35, 80] <br>\n",
        "from the above two lists the Student[0] got Marks[0],  Student[1] got Marks[1] and so on <br><br>\n",
        "your task is to print the name of students\n",
        "<strong>a. Who got top 5 ranks, in the descending order of marks</strong> <br>\n",
        "<strong>b. Who got least 5 ranks, in the increasing order of marks</strong><br>\n",
        "<strong>d. Who got marks between  &gt;25th percentile &lt;75th percentile, in the increasing order of marks</strong>\n",
        "\n",
        "<pre>\n",
        "Ex 1: \n",
        "Students=['student1','student2','student3','student4','student5','student6','student7','student8','student9','student10'] \n",
        "Marks = [45, 78, 12, 14, 48, 43, 47, 98, 35, 80]\n",
        "a. \n",
        "student8  98\n",
        "student10 80\n",
        "student2  78\n",
        "student5  48\n",
        "student7  47\n",
        "b.\n",
        "student3 12\n",
        "student4 14\n",
        "student9 35\n",
        "student6 43\n",
        "student1 45\n",
        "c.\n",
        "student9 35\n",
        "student6 43\n",
        "student1 45\n",
        "student7 47\n",
        "student5 48\n",
        "</pre>"
      ]
    },
    {
      "cell_type": "code",
      "metadata": {
        "id": "cxPJgItsB-kx",
        "colab": {
          "base_uri": "https://localhost:8080/"
        },
        "outputId": "ed60b62d-8efe-4a89-d314-b9c97dbd4a31"
      },
      "source": [
        "\n",
        "Students=['student1','student2','student3','student4','student5','student6','student7','student8','student9','student10'] \n",
        "Marks = [45, 78, 12, 14, 48, 43, 47, 98, 35, 80]\n",
        "def display_dash_board(Students, Marks):\n",
        "  d={i:j for i,j in zip(Students,Marks)}\n",
        "  #sort by ascending order of marks list\n",
        "  Marks.sort()\n",
        "  # list of bottom 5 marks based on sorted list\n",
        "  bottom_marks=Marks[0:5]\n",
        "  top_marks=Marks[-1:-6:-1]\n",
        "  # calculate index for 25th and 75th percentile\n",
        "  # sorted list of n elements n*(percentile/100)\n",
        "  percentile_marks=Marks[(int(len(Marks)/4)):(int((3/4)*len(Marks)))]\n",
        "  print('Last5_students')\n",
        "  for i in range(0,len(bottom_marks)):\n",
        "    for name,values in d.items():\n",
        "      if values==bottom_marks[i]:\n",
        "          print(name,values )\n",
        "  print('Top5_students')\n",
        "  for i in range(0,len(top_marks)):\n",
        "    for name,values in d.items():\n",
        "      if values==top_marks[i]:\n",
        "          print(name,values )\n",
        "  print('students between 25 and 75 percentile')\n",
        "  for i in range(0,len(percentile_marks)):\n",
        "    for name,values in d.items():\n",
        "      if values==percentile_marks[i]:\n",
        "          print(name,values )\n",
        "\n",
        "display_dash_board(Students,Marks)\n",
        "#top_5_students, least_5_students, students_within_25_and_75 = display_dash_board(students, marks)\n",
        "#print(# those values)"
      ],
      "execution_count": null,
      "outputs": [
        {
          "output_type": "stream",
          "text": [
            "Last5_students\n",
            "student3 12\n",
            "student4 14\n",
            "student9 35\n",
            "student6 43\n",
            "student1 45\n",
            "Top5_students\n",
            "student8 98\n",
            "student10 80\n",
            "student2 78\n",
            "student5 48\n",
            "student7 47\n",
            "students between 25 and 75 percentile\n",
            "student9 35\n",
            "student6 43\n",
            "student1 45\n",
            "student7 47\n",
            "student5 48\n"
          ],
          "name": "stdout"
        }
      ]
    },
    {
      "cell_type": "markdown",
      "metadata": {
        "id": "qha0OhQHB-k1"
      },
      "source": [
        "<h3> Q5: Find the closest points</h3>\n",
        "\n",
        "consider you have given n data points in the form of list of tuples like S=[(x1,y1),(x2,y2),(x3,y3),(x4,y4),(x5,y5),..,(xn,yn)] and a point P=(p,q) <br> your task is to find 5 closest points(based on cosine distance) in S from P\n",
        "<br>cosine distance between two points (x,y) and (p,q) is defind as $cos^{-1}(\\frac{(x\\cdot p+y\\cdot q)}{\\sqrt(x^2+y^2)\\cdot\\sqrt(p^2+q^2)})$\n",
        "<pre>\n",
        "Ex:\n",
        "\n",
        "S= [(1,2),(3,4),(-1,1),(6,-7),(0, 6),(-5,-8),(-1,-1)(6,0),(1,-1)]\n",
        "P= (3,-4)\n",
        "<img src='https://i.imgur.com/vIFPOcG.jpg', width=300>\n",
        "Output:\n",
        "(6,-7)\n",
        "(1,-1)\n",
        "(6,0)\n",
        "(-5,-8)\n",
        "(-1,-1)\n",
        "</pre>"
      ]
    },
    {
      "cell_type": "code",
      "metadata": {
        "id": "wA5I1g-2B-k2",
        "colab": {
          "base_uri": "https://localhost:8080/"
        },
        "outputId": "1f23d419-040f-4f0f-abd7-716545e1b26b"
      },
      "source": [
        "import math\n",
        "S= [(1,2),(3,4),(-1,1),(6,-7),(0, 6),(-5,-8),(-1,-1),(6,0),(1,-1)]\n",
        "p= (3,-4)\n",
        "def closest_points_to_p(S,p):\n",
        "  cosine_dist=[]\n",
        "  for i in range(0,len(S)):\n",
        "    x=S[i]\n",
        "    sumx1=0\n",
        "    for i,j in zip(x,p):\n",
        "      sumx1+=i*j\n",
        "    a=math.sqrt(((x[0]**2)+(x[1]**2)))\n",
        "    b=math.sqrt(((p[0]**2)+(p[1]**2)))\n",
        "    n=sumx1/(a*b)\n",
        "    cosine_dist.append (math.acos(n))\n",
        "  newdict={value:index for index,value in enumerate(cosine_dist)}\n",
        "  cosine_dist.sort()\n",
        "  points=[]\n",
        "  for k in cosine_dist[0:5]:\n",
        "    points.append(S[newdict[k]])\n",
        "  return points\n",
        "\n",
        "\n",
        "points = closest_points_to_p(S, p)\n",
        "print(points)"
      ],
      "execution_count": null,
      "outputs": [
        {
          "output_type": "stream",
          "text": [
            "[(6, -7), (1, -1), (6, 0), (-5, -8), (-1, -1)]\n"
          ],
          "name": "stdout"
        }
      ]
    },
    {
      "cell_type": "markdown",
      "metadata": {
        "id": "-g11jeAiB-k5"
      },
      "source": [
        "<h3> Q6: Find Which line separates oranges and apples</h3>\n",
        "consider you have given two set of data points in the form of list of tuples like \n",
        "<pre>\n",
        "Red =[(R11,R12),(R21,R22),(R31,R32),(R41,R42),(R51,R52),..,(Rn1,Rn2)]\n",
        "Blue=[(B11,B12),(B21,B22),(B31,B32),(B41,B42),(B51,B52),..,(Bm1,Bm2)]\n",
        "</pre>\n",
        "and set of line equations(in the string formate, i.e list of strings)\n",
        "<pre>\n",
        "Lines = [a1x+b1y+c1,a2x+b2y+c2,a3x+b3y+c3,a4x+b4y+c4,..,K lines]\n",
        "Note: you need to string parsing here and get the coefficients of x,y and intercept\n",
        "</pre>\n",
        "your task is to for each line that is given print \"YES\"/\"NO\", you will print yes, if all the red points are one side of the line and blue points are other side of the line, otherwise no\n",
        "<pre>\n",
        "Ex:\n",
        "Red= [(1,1),(2,1),(4,2),(2,4), (-1,4)]\n",
        "Blue= [(-2,-1),(-1,-2),(-3,-2),(-3,-1),(1,-3)]\n",
        "Lines=[\"1x+1y+0\",\"1x-1y+0\",\"1x+0y-3\",\"0x+1y-0.5\"]\n",
        "<img src='https://i.imgur.com/DoQf7mE.jpg' width=400>\n",
        "Output:\n",
        "YES\n",
        "NO\n",
        "NO\n",
        "YES\n",
        "</pre>"
      ]
    },
    {
      "cell_type": "code",
      "metadata": {
        "id": "eRxExaTRB-k6",
        "colab": {
          "base_uri": "https://localhost:8080/",
          "height": 0
        },
        "outputId": "84bdf739-4752-4122-83cd-2a0a015c37cc"
      },
      "source": [
        "import math\n",
        "import re\n",
        "red= [(1,1),(2,1),(4,2),(2,4), (-1,4)]\n",
        "blue= [(-2,-1),(-1,-2),(-3,-2),(-3,-1),(1,-3)]\n",
        "lines=[\"1x+1y+0\",\"1x-1y+0\",\"1x+0y-3\",\"0x+1y-0.5\"]\n",
        "\n",
        "def i_am_the_one(red,blue,lines):\n",
        "  coe_f=[]\n",
        "  coef_list=[]\n",
        "  for line in lines:\n",
        "      pattern=r'[^xy]+'\n",
        "      for match in re.findall(pattern,line):\n",
        "        coe_f.append(match)\n",
        "      coef_list.append(coe_f)\n",
        "      coe_f=[]\n",
        "  print(coef_list)\n",
        "  red_values=[]\n",
        "  blue_values=[]\n",
        "  for i,j,k in coef_list:\n",
        "    for m,n in red:\n",
        "      red_value=(float(i)*float(m))+(float(j)*float(n))+float(k)\n",
        "      if red_value>0:\n",
        "        red_values.append('positive')\n",
        "      else:\n",
        "        red_values.append('negative')\n",
        "    for a,b in blue:\n",
        "      blue_value=(float(i)*float(a))+(float(j)*float(b))+float(k)\n",
        "      if blue_value>0:\n",
        "        blue_values.append('positive')\n",
        "      else:\n",
        "        blue_values.append('negative')\n",
        "    red_value_set=set(red_values)\n",
        "    red_values=[]\n",
        "    blue_value_set=set(blue_values)\n",
        "    blue_values=[]\n",
        "    if len(red_value_set)==1 and len(blue_value_set)==1:\n",
        "      if (red_value_set)!=(blue_value_set):\n",
        "        print('yes')\n",
        "    else:\n",
        "      print('no')\n",
        "    \n",
        "\n",
        "i_am_the_one(red,blue,lines)"
      ],
      "execution_count": 7,
      "outputs": [
        {
          "output_type": "stream",
          "text": [
            "[['1', '+1', '+0'], ['1', '-1', '+0'], ['1', '+0', '-3'], ['0', '+1', '-0.5']]\n",
            "yes\n",
            "no\n",
            "no\n",
            "yes\n"
          ],
          "name": "stdout"
        }
      ]
    },
    {
      "cell_type": "markdown",
      "metadata": {
        "id": "9OBpURbNB-k9"
      },
      "source": [
        "<h3> Q7: Filling the missing values in the specified formate</h3>\n",
        "You will be given a string with digits and '\\_'(missing value) symbols you have to replace the '\\_' symbols as explained \n",
        "<pre>\n",
        "Ex 1: _, _, _, 24 ==> 24/4, 24/4, 24/4, 24/4 i.e we. have distributed the 24 equally to all 4 places <br>\n",
        "Ex 2: 40, _, _, _, 60 ==> (60+40)/5,(60+40)/5,(60+40)/5,(60+40)/5,(60+40)/5 ==> 20, 20, 20, 20, 20 i.e. the sum of (60+40) is distributed qually to all 5 places<br>\n",
        "Ex 3: 80, _, _, _, _  ==> 80/5,80/5,80/5,80/5,80/5 ==> 16, 16, 16, 16, 16 i.e. the 80 is distributed qually to all 5 missing values that are right to it<br>\n",
        "Ex 4: _, _, 30, _, _, _, 50, _, _  \n",
        "==> we will fill the missing values from left to right \n",
        "    a. first we will distribute the 30 to left two missing values (10, 10, 10, _, _, _, 50, _, _)\n",
        "    b. now distribute the sum (10+50) missing values in between (10, 10, 12, 12, 12, 12, 12, _, _) \n",
        "    c. now we will distribute 12 to right side missing values (10, 10, 12, 12, 12, 12, 4, 4, 4)\n",
        "</pre>\n",
        "for a given string with comma seprate values, which will have both missing values numbers like ex: \"_, _, x, _, _, _\"\n",
        "you need fill the missing values\n",
        "\n",
        "Q: your program reads a string like ex: \"_, _, x, _, _, _\" and returns the filled sequence\n",
        "\n",
        "Ex: \n",
        "<pre>\n",
        "Input1: \"_,_,_,24\"\n",
        "Output1: 6,6,6,6\n",
        "\n",
        "Input2: \"40,_,_,_,60\"\n",
        "Output2: 20,20,20,20,20\n",
        "\n",
        "Input3: \"80,_,_,_,_\"\n",
        "Output3: 16,16,16,16,16\n",
        "\n",
        "Input4: \"_,_,30,_,_,_,50,_,_\"\n",
        "Output4: 10,10,12,12,12,12,4,4,4\n",
        "</pre>\n",
        "\n"
      ]
    },
    {
      "cell_type": "code",
      "metadata": {
        "id": "nZmpzHs_B-k-"
      },
      "source": [
        "def filler(L,m,n):\n",
        "  if m==-1:\n",
        "    for k in range(0,n+1):\n",
        "      L[k]=float(L[n])/(n+1)\n",
        "      print(L[k])\n",
        "  elif n==-1:\n",
        "    fill_value=(float(L[m]))/(len(L)-m)\n",
        "    for k in range(m,len(L)):\n",
        "       L[k]=fill_value\n",
        "  else:\n",
        "    fill_value=(float(L[m])+float(L[n]))/(n-m+1)\n",
        "    for k in range(m,n+1):\n",
        "      L[k]=fill_value\n",
        "      \n",
        "  return L\n",
        "\n",
        "def curve_smoothing(mis):\n",
        "  L=mis.replace(\"\",\"\").split(',')\n",
        "  blank=[]\n",
        "  digits=[]\n",
        "  for i in range(0,len(L)):\n",
        "    if L[i]=='_':\n",
        "     blank.append(i)\n",
        "    else:\n",
        "     digits.append(i)\n",
        "\n",
        "  if digits[0]!=0:\n",
        "    digits=[-1]+digits\n",
        "\n",
        "  if digits[-1]!=len(L)-1:\n",
        "    digits.append(-1)\n",
        "  print(L)\n",
        "  for (m,n) in zip(digits[:-1],digits[1:]):\n",
        "    print(m,n)\n",
        "    print(filler(L,m,n))\n",
        "\n",
        "mis=\"_,_,30,_,_,_,50,_,_\"\n",
        "curve_smoothing(mis)\n",
        "\n",
        "## Logical idea chosen/learnt used from stack overflow answers after understanding the idea"
      ],
      "execution_count": null,
      "outputs": []
    },
    {
      "cell_type": "markdown",
      "metadata": {
        "id": "RBz4pzlfB-lB"
      },
      "source": [
        "<h3> Q8: Filling the missing values in the specified formate</h3>\n",
        "You will be given a list of lists, each sublist will be of length 2 i.e. [[x,y],[p,q],[l,m]..[r,s]]\n",
        "consider its like a martrix of n rows and two columns\n",
        "1. the first column F will contain only 5 uniques values (F1, F2, F3, F4, F5)\n",
        "2. the second column S will contain only 3 uniques values (S1, S2, S3)\n",
        "<pre>\n",
        "your task is to find\n",
        "a. Probability of P(F=F1|S==S1), P(F=F1|S==S2), P(F=F1|S==S3)\n",
        "b. Probability of P(F=F2|S==S1), P(F=F2|S==S2), P(F=F2|S==S3)\n",
        "c. Probability of P(F=F3|S==S1), P(F=F3|S==S2), P(F=F3|S==S3)\n",
        "d. Probability of P(F=F4|S==S1), P(F=F4|S==S2), P(F=F4|S==S3)\n",
        "e. Probability of P(F=F5|S==S1), P(F=F5|S==S2), P(F=F5|S==S3)\n",
        "</pre>\n",
        "Ex:\n",
        "\n",
        "<pre>\n",
        "[[F1,S1],[F2,S2],[F3,S3],[F1,S2],[F2,S3],[F3,S2],[F2,S1],[F4,S1],[F4,S3],[F5,S1]]\n",
        "\n",
        "a. P(F=F1|S==S1)=1/4, P(F=F1|S==S2)=1/3, P(F=F1|S==S3)=0/3\n",
        "b. P(F=F2|S==S1)=1/4, P(F=F2|S==S2)=1/3, P(F=F2|S==S3)=1/3\n",
        "c. P(F=F3|S==S1)=0/4, P(F=F3|S==S2)=1/3, P(F=F3|S==S3)=1/3\n",
        "d. P(F=F4|S==S1)=1/4, P(F=F4|S==S2)=0/3, P(F=F4|S==S3)=1/3\n",
        "e. P(F=F5|S==S1)=1/4, P(F=F5|S==S2)=0/3, P(F=F5|S==S3)=0/3\n",
        "</pre>\n",
        "\n",
        "\n"
      ]
    },
    {
      "cell_type": "code",
      "metadata": {
        "id": "e-1giz1MB-lC",
        "colab": {
          "base_uri": "https://localhost:8080/",
          "height": 0
        },
        "outputId": "ddd2071d-f741-4983-df61-8487418b07e2"
      },
      "source": [
        "\n",
        "A = [['F1','S1'],['F2','S2'],['F3','S3'],['F1','S2'],['F2','S3'],['F3','S2'],['F2','S1'],['F4','S1'],['F4','S3'],['F5','S1']]\n",
        "# you can free to change all these codes/structure\n",
        "def compute_conditional_probabilites(A):\n",
        "  counts=0\n",
        "  countf=0\n",
        "  S=['S1','S2','S3']\n",
        "  F=['F1','F2','F3','F4','F5']\n",
        "  for s in S:\n",
        "    for f in F:\n",
        "      for i,j in A:\n",
        "        if j==s:\n",
        "          counts+=1\n",
        "          if i==f:\n",
        "            countf+=1\n",
        "      print(countf,counts)\n",
        "      countf=0\n",
        "      counts=0\n",
        "      \n",
        "  \n",
        "compute_conditional_probabilites(A)"
      ],
      "execution_count": 22,
      "outputs": [
        {
          "output_type": "stream",
          "text": [
            "1 4\n",
            "1 4\n",
            "0 4\n",
            "1 4\n",
            "1 4\n",
            "1 3\n",
            "1 3\n",
            "1 3\n",
            "0 3\n",
            "0 3\n",
            "0 3\n",
            "1 3\n",
            "1 3\n",
            "1 3\n",
            "0 3\n"
          ],
          "name": "stdout"
        }
      ]
    },
    {
      "cell_type": "markdown",
      "metadata": {
        "id": "n4HS87QmB-lF"
      },
      "source": [
        "<h3> Q9: Given two sentances S1, S2</h3>\n",
        "You will be given two sentances S1, S2 your task is to find \n",
        "<pre>\n",
        "a. Number of common words between S1, S2\n",
        "b. Words in S1 but not in S2\n",
        "c. Words in S2 but not in S1\n",
        "</pre>\n",
        "\n",
        "Ex: \n",
        "<pre>\n",
        "S1= \"the first column F will contain only 5 uniques values\"\n",
        "S2= \"the second column S will contain only 3 uniques values\"\n",
        "Output:\n",
        "a. 7\n",
        "b. ['first','F','5']\n",
        "c. ['second','S','3']\n",
        "</pre>"
      ]
    },
    {
      "cell_type": "code",
      "metadata": {
        "id": "Ez7hlHK0B-lG",
        "colab": {
          "base_uri": "https://localhost:8080/"
        },
        "outputId": "1e812e8e-870c-4655-a69b-e715cee0e43c"
      },
      "source": [
        "\n",
        "def string_features(S1, S2):\n",
        "  sent_1=S1.split(' ')\n",
        "  sent_2=S2.split(' ')\n",
        "  count=0\n",
        "  popie=[]\n",
        "  popie2=[]\n",
        "  for word in sent_1:\n",
        "    if word in sent_2:\n",
        "      count=count+1  \n",
        "  for i in range(0,len(sent_1)):\n",
        "    if sent_1[i] not in sent_2:\n",
        "         popie.append(sent_1[i])\n",
        "\n",
        "  for i in range(0,len(sent_2)):\n",
        "       if sent_2[i] not in sent_1:\n",
        "         popie2.append(sent_2[i])     \n",
        "  return count,popie,popie2\n",
        "\n",
        "\n",
        "\n",
        "S1= \"the first column F will contain only 5 uniques values\"\n",
        "S2= \"the second column S will contain only 3 uniques values\"\n",
        "string_features(S1,S2)"
      ],
      "execution_count": null,
      "outputs": [
        {
          "output_type": "execute_result",
          "data": {
            "text/plain": [
              "(7, ['first', 'F', '5'], ['second', 'S', '3'])"
            ]
          },
          "metadata": {
            "tags": []
          },
          "execution_count": 25
        }
      ]
    },
    {
      "cell_type": "markdown",
      "metadata": {
        "id": "XefXVEjCB-lI"
      },
      "source": [
        "<h3> Q10: Given two sentances S1, S2</h3>\n",
        "You will be given a list of lists, each sublist will be of length 2 i.e. [[x,y],[p,q],[l,m]..[r,s]]\n",
        "consider its like a martrix of n rows and two columns\n",
        "\n",
        "a. the first column Y will contain interger values <br>\n",
        "b. the second column $Y_{score}$ will be having float values <br>\n",
        "Your task is to find the value of $f(Y,Y_{score}) = -1*\\frac{1}{n}\\Sigma_{for each Y,Y_{score} pair}(Ylog10(Y_{score})+(1-Y)log10(1-Y_{score}))$ here n is the number of rows in the matrix\n",
        "<pre>\n",
        "Ex:\n",
        "[[1, 0.4], [0, 0.5], [0, 0.9], [0, 0.3], [0, 0.6], [1, 0.1], [1, 0.9], [1, 0.8]]\n",
        "output:\n",
        "0.4243099\n",
        "</pre>\n",
        "$\\frac{-1}{8}\\cdot((1\\cdot log_{10}(0.4)+0\\cdot log_{10}(0.6))+(0\\cdot log_{10}(0.5)+1\\cdot log_{10}(0.5)) + ... + (1\\cdot log_{10}(0.8)+0\\cdot log_{10}(0.2)) )$"
      ]
    },
    {
      "cell_type": "code",
      "metadata": {
        "id": "N9zkagyNB-lJ",
        "colab": {
          "base_uri": "https://localhost:8080/"
        },
        "outputId": "a6d8f2ff-f24d-4140-fdf8-fe2e67f91d95"
      },
      "source": [
        "import math\n",
        "def compute_log_loss(A):\n",
        "  sum1=0\n",
        "  sum2=0\n",
        "  n=len(A)\n",
        "  for i,j in A:\n",
        "    sum1+=(i*(math.log(j,10)))\n",
        "    sum2+=((1-i)*(math.log((1-j),10)))\n",
        "  return (-1*(sum1+sum2)/n)   \n",
        "\n",
        "A = [[1, 0.4], [0, 0.5], [0, 0.9], [0, 0.3], [0, 0.6], [1, 0.1], [1, 0.9], [1, 0.8]]\n",
        "loss = compute_log_loss(A)\n",
        "print(loss)"
      ],
      "execution_count": null,
      "outputs": [
        {
          "output_type": "stream",
          "text": [
            "0.4243099345703163\n"
          ],
          "name": "stdout"
        }
      ]
    }
  ]
}